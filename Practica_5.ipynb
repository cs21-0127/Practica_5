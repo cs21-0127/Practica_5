{
  "nbformat": 4,
  "nbformat_minor": 0,
  "metadata": {
    "colab": {
      "provenance": []
    },
    "kernelspec": {
      "name": "python3",
      "display_name": "Python 3"
    },
    "language_info": {
      "name": "python"
    }
  },
  "cells": [
    {
      "cell_type": "code",
      "execution_count": 10,
      "metadata": {
        "id": "dkSRI5KINp1F"
      },
      "outputs": [],
      "source": [
        "from functools import reduce"
      ]
    },
    {
      "cell_type": "markdown",
      "source": [
        "# Ejercicio 1: Elevar al cuadrado cada elemento de una lista usando map y lambda"
      ],
      "metadata": {
        "id": "GAMzCYaaN8pK"
      }
    },
    {
      "cell_type": "code",
      "source": [
        "lista1 = [1, 2, 3, 4, 5]\n",
        "resultado1 = list(map(lambda x: x**2, lista1))\n",
        "\n",
        "print(resultado1)"
      ],
      "metadata": {
        "id": "XBi2uBsDN1Gm",
        "colab": {
          "base_uri": "https://localhost:8080/"
        },
        "outputId": "92a1b0ba-8e14-4463-8b90-2bad9335a5a1"
      },
      "execution_count": null,
      "outputs": [
        {
          "output_type": "stream",
          "name": "stdout",
          "text": [
            "[1, 4, 9, 16, 25]\n"
          ]
        }
      ]
    },
    {
      "cell_type": "markdown",
      "source": [
        "# Ejercicio 2: Filtrar números pares de una lista usando filter y lambda\n"
      ],
      "metadata": {
        "id": "qB_kv1IxN_X4"
      }
    },
    {
      "cell_type": "code",
      "source": [
        "lista2 = [10, 11, 12, 13, 14]\n",
        "resultado2 = list(filter(lambda x: x % 2 == 0, lista2))\n",
        "\n",
        "print(resultado2)"
      ],
      "metadata": {
        "id": "Fp1uyad3OFCk",
        "colab": {
          "base_uri": "https://localhost:8080/"
        },
        "outputId": "10fb6ef8-5020-4f91-9056-83e0511765d0"
      },
      "execution_count": null,
      "outputs": [
        {
          "output_type": "stream",
          "name": "stdout",
          "text": [
            "[10, 12, 14]\n"
          ]
        }
      ]
    },
    {
      "cell_type": "markdown",
      "source": [
        "# Ejercicio 3: Sumar dos listas elemento a elemento usando lambda\n"
      ],
      "metadata": {
        "id": "Sh4VukmVOFi4"
      }
    },
    {
      "cell_type": "code",
      "source": [
        "lista3_1 = [1, 2, 3]\n",
        "lista3_2 = [4, 5, 6]\n",
        "resultado3 = list(map(lambda x, y: x + y, lista3_1, lista3_2))\n",
        "\n",
        "print(resultado3)"
      ],
      "metadata": {
        "id": "ngNCOySMOIKS",
        "colab": {
          "base_uri": "https://localhost:8080/"
        },
        "outputId": "6a791861-80c2-42e5-f894-c941cceceed7"
      },
      "execution_count": null,
      "outputs": [
        {
          "output_type": "stream",
          "name": "stdout",
          "text": [
            "[5, 7, 9]\n"
          ]
        }
      ]
    },
    {
      "cell_type": "markdown",
      "source": [
        "# Ejercicio 4: Multiplicar dos listas elemento a elemento usando zip"
      ],
      "metadata": {
        "id": "RX_3XwE_PUT5"
      }
    },
    {
      "cell_type": "code",
      "source": [
        "lista4_1 = [2, 3, 4]\n",
        "lista4_2 = [5, 6, 7]\n",
        "resultado4 = list(map(lambda x, y: x * y, lista4_1, lista4_2))\n",
        "\n",
        "print(resultado4)"
      ],
      "metadata": {
        "id": "XSWDGyHZPUx0",
        "colab": {
          "base_uri": "https://localhost:8080/"
        },
        "outputId": "4136f25e-0781-4cef-bb99-588f6c7615a4"
      },
      "execution_count": null,
      "outputs": [
        {
          "output_type": "stream",
          "name": "stdout",
          "text": [
            "[10, 18, 28]\n"
          ]
        }
      ]
    },
    {
      "cell_type": "markdown",
      "source": [
        "# Ejercicio 5: Unir dos listas de strings usando zip"
      ],
      "metadata": {
        "id": "rW1CA4BgPXHO"
      }
    },
    {
      "cell_type": "code",
      "source": [
        "lista5_1 = ['a', 'b', 'c']\n",
        "lista5_2 = ['x', 'y', 'z']\n",
        "resultado5 = [x + y for x, y in zip(lista5_1, lista5_2)]\n",
        "\n",
        "print(resultado5)"
      ],
      "metadata": {
        "id": "o01ReZOmPZHm",
        "colab": {
          "base_uri": "https://localhost:8080/"
        },
        "outputId": "2026ac9a-5a4f-4bc3-c3b6-e7e1cbae786f"
      },
      "execution_count": null,
      "outputs": [
        {
          "output_type": "stream",
          "name": "stdout",
          "text": [
            "['ax', 'by', 'cz']\n"
          ]
        }
      ]
    },
    {
      "cell_type": "markdown",
      "source": [
        "# Ejercicio 6: Concatenar dos listas de listas usando lambda"
      ],
      "metadata": {
        "id": "McazKPaGPabl"
      }
    },
    {
      "cell_type": "code",
      "source": [
        "lista6_1 = [[1, 2], [3, 4], [5, 6]]\n",
        "lista6_2 = [['a', 'b'], ['c', 'd'], ['e', 'f']]\n",
        "resultado6 = list(map(lambda x, y: x + y, lista6_1, lista6_2))\n",
        "\n",
        "print(resultado6)"
      ],
      "metadata": {
        "id": "yLxRcZ3HPcCQ",
        "colab": {
          "base_uri": "https://localhost:8080/"
        },
        "outputId": "2e8c9a86-1fcd-4a3f-da88-5cad0cf30a28"
      },
      "execution_count": null,
      "outputs": [
        {
          "output_type": "stream",
          "name": "stdout",
          "text": [
            "[[1, 2, 'a', 'b'], [3, 4, 'c', 'd'], [5, 6, 'e', 'f']]\n"
          ]
        }
      ]
    },
    {
      "cell_type": "markdown",
      "source": [
        "# Ejercicio 7: Sumar todos los elementos de una lista usando reduce y lambda"
      ],
      "metadata": {
        "id": "UCVmE8biPevm"
      }
    },
    {
      "cell_type": "code",
      "source": [
        "lista7 = [1, 2, 3, 4, 5]\n",
        "resultado7 = reduce(lambda x, y: x + y, lista7)\n",
        "\n",
        "print(resultado7)"
      ],
      "metadata": {
        "id": "MA2D0JpEPhba",
        "colab": {
          "base_uri": "https://localhost:8080/"
        },
        "outputId": "42ae1e98-c215-4d7b-9367-aace7e030e00"
      },
      "execution_count": null,
      "outputs": [
        {
          "output_type": "stream",
          "name": "stdout",
          "text": [
            "15\n"
          ]
        }
      ]
    },
    {
      "cell_type": "markdown",
      "source": [
        "\\# Ejercicio 8: Multiplicar todos los elementos de una lista usando reduce y lambda"
      ],
      "metadata": {
        "id": "sQCBA4BbPh88"
      }
    },
    {
      "cell_type": "code",
      "source": [
        "lista8 = [2, 3, 4, 5]\n",
        "resultado8 = reduce(lambda x, y: x * y, lista8)\n",
        "\n",
        "print(resultado8)"
      ],
      "metadata": {
        "id": "mTVU4KVfPk6Y",
        "colab": {
          "base_uri": "https://localhost:8080/"
        },
        "outputId": "e73f964a-91b4-467b-95df-a3933d5c86dd"
      },
      "execution_count": null,
      "outputs": [
        {
          "output_type": "stream",
          "name": "stdout",
          "text": [
            "120\n"
          ]
        }
      ]
    },
    {
      "cell_type": "markdown",
      "source": [
        "# Ejercicio 9: Encontrar el máximo de una lista usando reduce y lambda"
      ],
      "metadata": {
        "id": "Z6UkR5FZPlTA"
      }
    },
    {
      "cell_type": "code",
      "source": [
        "lista9 = [10, 2, 30, 4, 50]\n",
        "resultado9 = reduce(lambda x, y: x if x > y else y, lista9)\n",
        "\n",
        "print(resultado9)"
      ],
      "metadata": {
        "id": "jRNp2sSWPnZ8",
        "colab": {
          "base_uri": "https://localhost:8080/"
        },
        "outputId": "51910620-d7ca-413f-b240-cd630bd2ea26"
      },
      "execution_count": null,
      "outputs": [
        {
          "output_type": "stream",
          "name": "stdout",
          "text": [
            "50\n"
          ]
        }
      ]
    },
    {
      "cell_type": "markdown",
      "source": [
        "# Ejercicio 10: Calcular el promedio de una lista usando reduce y lambda"
      ],
      "metadata": {
        "id": "RqNXFmBmPo4R"
      }
    },
    {
      "cell_type": "code",
      "source": [
        "lista10 = [1, 2, 3, 4, 5]\n",
        "\n",
        "suma = reduce(lambda x, y: x + y, lista10)\n",
        "\n",
        "promedio = suma/len(lista10)\n",
        "\n",
        "print(promedio)"
      ],
      "metadata": {
        "id": "ej7VfQPaPr7d",
        "colab": {
          "base_uri": "https://localhost:8080/"
        },
        "outputId": "f74b5b84-3ee7-4137-ac51-dc39148f45fa"
      },
      "execution_count": null,
      "outputs": [
        {
          "output_type": "stream",
          "name": "stdout",
          "text": [
            "3.0\n"
          ]
        }
      ]
    },
    {
      "cell_type": "markdown",
      "source": [
        "# Ejercicio 11: Filtrar números primos de una lista usando filter y lambda. Debes crear el contenido de la función para determinar si el numero es primo o no"
      ],
      "metadata": {
        "id": "BKXrP3ERPsdN"
      }
    },
    {
      "cell_type": "code",
      "source": [
        "def es_primo(num):\n",
        "    if num <= 1:\n",
        "        return False\n",
        "    for i in range(2, int(num ** 0.5) + 1):\n",
        "        if num % i == 0:\n",
        "            return False\n",
        "    return True\n",
        "\n",
        "lista11 = [2, 3, 4, 5, 6, 7, 8, 9, 10]\n",
        "resultado11 = list(filter(lambda x: es_primo(x), lista11))\n",
        "\n",
        "print(resultado11)"
      ],
      "metadata": {
        "id": "vAjt5Oo4QHHy",
        "colab": {
          "base_uri": "https://localhost:8080/"
        },
        "outputId": "79ac1aa3-21c0-4a62-a41c-271f921df0be"
      },
      "execution_count": 1,
      "outputs": [
        {
          "output_type": "stream",
          "name": "stdout",
          "text": [
            "[2, 3, 5, 7]\n"
          ]
        }
      ]
    },
    {
      "cell_type": "markdown",
      "source": [
        "# Ejercicio 12: Convertir una lista de Celsius a Fahrenheit usando map y lambda"
      ],
      "metadata": {
        "id": "YZQtLR3wQIbY"
      }
    },
    {
      "cell_type": "code",
      "source": [
        "def celsius_a_fahrenheit(celsius):\n",
        "    return (celsius * 9/5) + 32\n",
        "\n",
        "lista12 = [0, 10, 20, 30, 40]\n",
        "resultado12 = list(map(lambda x: celsius_a_fahrenheit(x), lista12))\n",
        "\n",
        "print(resultado12)"
      ],
      "metadata": {
        "id": "1vWMAmcbQMzl",
        "colab": {
          "base_uri": "https://localhost:8080/"
        },
        "outputId": "d7654288-8b74-48b0-a8e9-64ded8a8c921"
      },
      "execution_count": 2,
      "outputs": [
        {
          "output_type": "stream",
          "name": "stdout",
          "text": [
            "[32.0, 50.0, 68.0, 86.0, 104.0]\n"
          ]
        }
      ]
    },
    {
      "cell_type": "markdown",
      "source": [
        "# Ejercicio 13: Convertir una lista de kilómetros a millas usando map y lambda"
      ],
      "metadata": {
        "id": "8cWNkiK5QObv"
      }
    },
    {
      "cell_type": "code",
      "source": [
        "def km_a_millas(km):\n",
        "    return km * 0.621371\n",
        "\n",
        "lista13 = [10, 20, 30, 40, 50]\n",
        "resultado13 = list(map(lambda x: km_a_millas(x), lista13))\n",
        "\n",
        "print(resultado13)"
      ],
      "metadata": {
        "id": "miZGsZcEQQo4",
        "colab": {
          "base_uri": "https://localhost:8080/"
        },
        "outputId": "c58f41b1-460b-4bcb-fd3c-dc7508483838"
      },
      "execution_count": 3,
      "outputs": [
        {
          "output_type": "stream",
          "name": "stdout",
          "text": [
            "[6.21371, 12.42742, 18.64113, 24.85484, 31.068550000000002]\n"
          ]
        }
      ]
    },
    {
      "cell_type": "markdown",
      "source": [
        "# Ejercicio 14: Contar la longitud de cada palabra en una lista de strings usando map y lambda"
      ],
      "metadata": {
        "id": "TTz6OZSyQSNU"
      }
    },
    {
      "cell_type": "code",
      "source": [
        "lista14 = ['hola', 'como', 'estas']\n",
        "\n",
        "resultado14 = list(map(lambda x: len(x), lista14))\n",
        "\n",
        "print(resultado14)"
      ],
      "metadata": {
        "id": "wLWTq06WQU-I",
        "colab": {
          "base_uri": "https://localhost:8080/"
        },
        "outputId": "ec48cd9c-6a6b-414e-8ced-fb6a143c16dd"
      },
      "execution_count": null,
      "outputs": [
        {
          "output_type": "stream",
          "name": "stdout",
          "text": [
            "[4, 4, 5]\n"
          ]
        }
      ]
    },
    {
      "cell_type": "markdown",
      "source": [
        "# Ejercicio 15: Revertir cada palabra en una lista de strings usando map y lambda"
      ],
      "metadata": {
        "id": "KFyr88-0QW9P"
      }
    },
    {
      "cell_type": "code",
      "source": [
        "lista15 = ['abc', 'def', 'ghi']\n",
        "\n",
        "resultado15 = list(map(lambda x: x[::-1], lista15))\n",
        "print(resultado15)  # ['cba', 'fed', 'ihg']"
      ],
      "metadata": {
        "id": "T58MRUjcQY7q",
        "colab": {
          "base_uri": "https://localhost:8080/"
        },
        "outputId": "1a21a23b-9d79-4e77-b64b-a2d7d7ccc4ec"
      },
      "execution_count": 4,
      "outputs": [
        {
          "output_type": "stream",
          "name": "stdout",
          "text": [
            "['cba', 'fed', 'ihg']\n"
          ]
        }
      ]
    },
    {
      "cell_type": "markdown",
      "source": [
        "# Ejercicio 16: Eliminar valores None de una lista usando filter y lambda"
      ],
      "metadata": {
        "id": "Wli4MsVaQcEZ"
      }
    },
    {
      "cell_type": "code",
      "source": [
        "lista16 = [1, None, 2, None, 3, None, 4]\n",
        "\n",
        "resultado16 = list(filter(lambda x: x is not None, lista16))\n",
        "print(resultado16)"
      ],
      "metadata": {
        "id": "OIWtMBLHQdFB",
        "colab": {
          "base_uri": "https://localhost:8080/"
        },
        "outputId": "fafe3a06-48f5-4255-9d59-252551a1fc86"
      },
      "execution_count": 5,
      "outputs": [
        {
          "output_type": "stream",
          "name": "stdout",
          "text": [
            "[1, 2, 3, 4]\n"
          ]
        }
      ]
    },
    {
      "cell_type": "markdown",
      "source": [
        "# Ejercicio 17: Duplicar los valores de una lista usando map y lambda"
      ],
      "metadata": {
        "id": "F4mMjcxTQelo"
      }
    },
    {
      "cell_type": "code",
      "source": [
        "lista17 = [1, 2, 3, 4]\n",
        "resultado17 = list(map(lambda x: x * 2, lista17))\n",
        "\n",
        "print(resultado17)"
      ],
      "metadata": {
        "id": "UurriVbmQgiJ",
        "colab": {
          "base_uri": "https://localhost:8080/"
        },
        "outputId": "c818e6ef-0cc3-41b0-eeb9-8bf39e435742"
      },
      "execution_count": null,
      "outputs": [
        {
          "output_type": "stream",
          "name": "stdout",
          "text": [
            "[2, 4, 6, 8]\n"
          ]
        }
      ]
    },
    {
      "cell_type": "markdown",
      "source": [
        "# Ejercicio 18: Filtrar sublistas de una lista de listas basado en su longitud usando filter y lambda"
      ],
      "metadata": {
        "id": "ENNdsiztQhty"
      }
    },
    {
      "cell_type": "code",
      "source": [
        "lista18 = [[1, 2], [3], [4, 5, 6], [7, 8]]\n",
        "resultado18 = list(filter(lambda x: len(x) > 2, lista18))\n",
        "\n",
        "print(resultado18)"
      ],
      "metadata": {
        "id": "ihEzK8caQjFZ",
        "colab": {
          "base_uri": "https://localhost:8080/"
        },
        "outputId": "7516a7cf-361b-49f4-dda7-2cf07b1ff86a"
      },
      "execution_count": 6,
      "outputs": [
        {
          "output_type": "stream",
          "name": "stdout",
          "text": [
            "[[4, 5, 6]]\n"
          ]
        }
      ]
    },
    {
      "cell_type": "markdown",
      "source": [
        "# Ejercicio 19: Concatenar dos listas usando reduce y lambda"
      ],
      "metadata": {
        "id": "82Ee6GVnQkil"
      }
    },
    {
      "cell_type": "code",
      "source": [
        "lista19_1 = [[1, 2], [3, 4], [5, 6]]\n",
        "lista19_2 = [['a', 'b'], ['c', 'd'], ['e', 'f']]\n",
        "resultado19 = functools.reduce(lambda x, y: x + y, lista19_1 + lista19_2)\n",
        "\n",
        "print(resultado19)"
      ],
      "metadata": {
        "id": "PHi6FLpQQnlV",
        "colab": {
          "base_uri": "https://localhost:8080/"
        },
        "outputId": "26ee9c7e-aa2b-49d4-9257-581e5f4d0371"
      },
      "execution_count": 13,
      "outputs": [
        {
          "output_type": "stream",
          "name": "stdout",
          "text": [
            "[1, 2, 3, 4, 5, 6, 'a', 'b', 'c', 'd', 'e', 'f']\n"
          ]
        }
      ]
    },
    {
      "cell_type": "markdown",
      "source": [
        "# Ejercicio 20: Sumar los elementos de dos listas usando reduce y lambda"
      ],
      "metadata": {
        "id": "ZtK2X3SYQo3v"
      }
    },
    {
      "cell_type": "code",
      "source": [
        "lista20_1 = [1, 2, 3]\n",
        "lista20_2 = [4, 5, 6]\n",
        "\n",
        "suma_lista1 = functools.reduce(lambda x, y: x + y, lista20_1)\n",
        "suma_lista2 = functools.reduce(lambda x, y: x + y, lista20_2)\n",
        "\n",
        "resultado20 = suma_lista1 + suma_lista2\n",
        "print(resultado20)"
      ],
      "metadata": {
        "id": "q98NzG9CQrt6",
        "colab": {
          "base_uri": "https://localhost:8080/"
        },
        "outputId": "1b72beb1-0fd5-4a4e-f28a-be9038e388a3"
      },
      "execution_count": 15,
      "outputs": [
        {
          "output_type": "stream",
          "name": "stdout",
          "text": [
            "21\n"
          ]
        }
      ]
    }
  ]
}